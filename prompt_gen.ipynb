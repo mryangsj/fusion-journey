{
 "cells": [
  {
   "cell_type": "code",
   "execution_count": 1,
   "id": "initial_id",
   "metadata": {
    "ExecuteTime": {
     "end_time": "2024-06-12T14:58:07.374419Z",
     "start_time": "2024-06-12T14:58:06.989669Z"
    },
    "collapsed": true
   },
   "outputs": [],
   "source": [
    "import os\n",
    "from dotenv import load_dotenv\n",
    "import logging\n",
    "import datetime as dt\n",
    "from typing import Dict, Any\n",
    "import requests\n",
    "from openai import OpenAI"
   ]
  },
  {
   "cell_type": "code",
   "execution_count": 2,
   "id": "1ef08e5fb257cec3",
   "metadata": {
    "ExecuteTime": {
     "end_time": "2024-06-12T14:58:12.621270Z",
     "start_time": "2024-06-12T14:58:12.608577Z"
    }
   },
   "outputs": [],
   "source": [
    "class PromptGenerator:\n",
    "    API_KEY_ENV_NAMES = {\n",
    "        \"openai\": \"OPENAI_API_KEY\",\n",
    "        \"weather\": \"OPENWEATHERMAP_API_KEY\"\n",
    "    }\n",
    "    \n",
    "    WEATHER_BASE_URL = \"https://api.openweathermap.org/data/2.5/weather\"\n",
    "    KELVIN_TO_CELSIUS_OFFSET = 273.15\n",
    "    GPT_MODEL = \"gpt-4o\"\n",
    "    GPT_DEFAULT_TOKENS = 70\n",
    "    \n",
    "    \n",
    "    def __init__(self):\n",
    "        self.openai_api_key = self._load_env_variable(PromptGenerator.API_KEY_ENV_NAMES[\"openai\"])\n",
    "        self.weather_api_key = self._load_env_variable(PromptGenerator.API_KEY_ENV_NAMES[\"weather\"])\n",
    "        self.gpt = OpenAI(api_key=self.openai_api_key)\n",
    "        \n",
    "        \n",
    "    @staticmethod\n",
    "    def _load_env_variable(env_name: str) -> str:\n",
    "        load_dotenv()\n",
    "        key = os.getenv(env_name)\n",
    "        if not key:\n",
    "            logging.error(f\"Environment variable for {env_name} is not set.\")\n",
    "            raise ValueError(f\"Environment variable for {env_name} is not set.\")\n",
    "        return key\n",
    "    \n",
    "    \n",
    "    @staticmethod\n",
    "    def kelvin_to_celsius(kelvin: float) -> float:\n",
    "        return kelvin - PromptGenerator.KELVIN_TO_CELSIUS_OFFSET\n",
    "    \n",
    "    \n",
    "    @staticmethod\n",
    "    def format_time(timestamp: int, timezone: int) -> str:\n",
    "        return dt.datetime.fromtimestamp(timestamp + timezone).strftime('%H:%M:%S')\n",
    "\n",
    "\n",
    "    def get_weather_data(self, city: str = \"Milan\") -> Dict[str, Any]:\n",
    "        url = f\"{PromptGenerator.WEATHER_BASE_URL}?q={city}&appid={self.weather_api_key}\"\n",
    "        try:\n",
    "            response = requests.get(url)\n",
    "            response.raise_for_status()\n",
    "            return response.json()\n",
    "        except requests.exceptions.HTTPError as e:\n",
    "            logging.error(f\"HTTP Error occurred while fetching weather data: {e}\")\n",
    "            raise\n",
    "        except requests.exceptions.RequestException as e:\n",
    "            logging.error(f\"Request Exception occurred: {e}\")\n",
    "            raise\n",
    "        \n",
    "        \n",
    "    def get_prompt(self, landmark: str = \"Duomo\", city: str = \"Milan\", verbose=True) -> str:\n",
    "        try:\n",
    "            weather_data = self.get_weather_data(city)\n",
    "            \n",
    "            timezone_offset = weather_data['timezone']\n",
    "            utc_now = dt.datetime.now(dt.timezone.utc)\n",
    "            local_time = utc_now + dt.timedelta(seconds=timezone_offset)\n",
    "            current_time = local_time.strftime('%H:%M:%S')\n",
    "            \n",
    "            temp_celsius = self.kelvin_to_celsius(weather_data['main']['temp'])\n",
    "            description = weather_data['weather'][0]['description']\n",
    "\n",
    "            local_sunrise = self.format_time(weather_data['sys']['sunrise'], timezone_offset)\n",
    "            local_sunset = self.format_time(weather_data['sys']['sunset'], timezone_offset)\n",
    "\n",
    "            system_content, user_content = self.build_prompt_content(\n",
    "                landmark,\n",
    "                description,\n",
    "                temp_celsius,\n",
    "                current_time,\n",
    "                local_sunrise,\n",
    "                local_sunset,\n",
    "            )\n",
    "            \n",
    "            return self.query_gpt(system_content, user_content, verbose)\n",
    "        \n",
    "        except Exception as e:\n",
    "            logging.error(f\"Error in get_prompt: {e}\")\n",
    "            raise\n",
    "    \n",
    "    \n",
    "    @staticmethod\n",
    "    def build_prompt_content(\n",
    "            landmark: str,\n",
    "            weather_description: str,\n",
    "            temp_celsius: float,\n",
    "            current_time,\n",
    "            sunrise_time,\n",
    "            sunset_time\n",
    "    ):\n",
    "        system_message = (\n",
    "            f\"You are a creative assistant specialized in generating informative prompts for image generative models \"\n",
    "            f\"like Stable Diffusion.\"\n",
    "        )\n",
    "        \n",
    "        user_message = (\n",
    "            f\"Write a one sentence prompt showing the most famous tourism scene in {landmark} with the weather being \"\n",
    "            f\"{weather_description} at {temp_celsius:.1f}°C, observed at time {current_time}. Please accurately reflect the \"\n",
    "            f\"scene within the specified time range, given that the sun rises at {sunrise_time} and sun sets at \"\n",
    "            f\"{sunset_time}, but don't show the exact time and temperature in the prompt. Append suitable descriptive \"\n",
    "            f\"labels you think that may appear in the scene at the end, e.g. 'animals, sheep, birds, cinematic, \"\n",
    "            f\"scenery, 8k', etc. Here is an example of expected prompt: 'Duomo di Milano under the early morning sky \"\n",
    "            f\"with broken clouds, the iconic cathedral subtly illuminated by streetlights and the quiet ambiance of the \"\n",
    "            f\"city at predawn hour with a few nocturnal birds in flight. cinematic, serene, atmospheric, 8k.'\"\n",
    "        )\n",
    "        \n",
    "        return system_message, user_message\n",
    "    \n",
    "    \n",
    "    def query_gpt(self, system_content: str, user_content: str, verbose=True) -> str:\n",
    "        logging.debug(f\"Asking GPT: {user_content}\")\n",
    "        try:\n",
    "            completion = self.gpt.chat.completions.create(\n",
    "                model=PromptGenerator.GPT_MODEL,\n",
    "                messages=[\n",
    "                    {\"role\": \"system\", \"content\": system_content},\n",
    "                    {\"role\": \"user\", \"content\": user_content}\n",
    "                ],\n",
    "                max_tokens=PromptGenerator.GPT_DEFAULT_TOKENS\n",
    "            )\n",
    "            gpt_response = completion.choices[0].message.content\n",
    "            \n",
    "            if verbose:\n",
    "                print(f\"Ask GPT: {user_content}\")\n",
    "                print(f\"GPT Response: {gpt_response}\")\n",
    "            \n",
    "            return gpt_response\n",
    "        except Exception as e:\n",
    "            logging.error(f\"Error occurred while generating prompt: {e}\")\n",
    "            raise"
   ]
  },
  {
   "cell_type": "code",
   "execution_count": 3,
   "id": "a4d5fd53722ccbca",
   "metadata": {
    "ExecuteTime": {
     "end_time": "2024-06-12T14:58:28.524700Z",
     "start_time": "2024-06-12T14:58:26.461486Z"
    }
   },
   "outputs": [
    {
     "name": "stdout",
     "output_type": "stream",
     "text": [
      "Ask GPT: Write a one sentence prompt showing the most famous tourism scene in The Great Wall with the weather being overcast clouds at 29.9°C, observed at time 22:58:26. Please accurately reflect the scene within the specified time range, given that the sun rises at 06:45:27 and sun sets at 21:43:16, but don't show the exact time and temperature in the prompt. Append suitable descriptive labels you think that may appear in the scene at the end, e.g. 'animals, sheep, birds, cinematic, scenery, 8k', etc. Here is an example of expected prompt: 'Duomo di Milano under the early morning sky with broken clouds, the iconic cathedral subtly illuminated by streetlights and the quiet ambiance of the city at predawn hour with a few nocturnal birds in flight. cinematic, serene, atmospheric, 8k.'\n",
      "GPT Response: The Great Wall of China shrouded in an overcast sky, the ancient structure cloaked in the soft glow of the few remaining twilight moments, subtle lights guiding the path along the historic stones as night gently settles in. cinematic, majestic, atmospheric, historical, 8k.\n"
     ]
    },
    {
     "data": {
      "text/plain": [
       "'The Great Wall of China shrouded in an overcast sky, the ancient structure cloaked in the soft glow of the few remaining twilight moments, subtle lights guiding the path along the historic stones as night gently settles in. cinematic, majestic, atmospheric, historical, 8k.'"
      ]
     },
     "execution_count": 3,
     "metadata": {},
     "output_type": "execute_result"
    }
   ],
   "source": [
    "prompt_generator = PromptGenerator()\n",
    "prompt_generator.get_prompt(landmark=\"The Great Wall\", city=\"Beijing\")"
   ]
  }
 ],
 "metadata": {
  "kernelspec": {
   "display_name": "Python 3",
   "language": "python",
   "name": "python3"
  },
  "language_info": {
   "codemirror_mode": {
    "name": "ipython",
    "version": 2
   },
   "file_extension": ".py",
   "mimetype": "text/x-python",
   "name": "python",
   "nbconvert_exporter": "python",
   "pygments_lexer": "ipython2",
   "version": "2.7.6"
  }
 },
 "nbformat": 4,
 "nbformat_minor": 5
}
